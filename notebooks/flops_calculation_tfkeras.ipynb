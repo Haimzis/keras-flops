{
  "nbformat": 4,
  "nbformat_minor": 0,
  "metadata": {
    "colab": {
      "name": "flops_calculation_tfkeras.ipynb",
      "provenance": [],
      "collapsed_sections": [],
      "authorship_tag": "ABX9TyPCBdAoyGXU5yRciOLhV+9e",
      "include_colab_link": true
    },
    "kernelspec": {
      "name": "python3",
      "display_name": "Python 3"
    },
    "accelerator": "GPU"
  },
  "cells": [
    {
      "cell_type": "markdown",
      "metadata": {
        "id": "view-in-github",
        "colab_type": "text"
      },
      "source": [
        "<a href=\"https://colab.research.google.com/github/tokusumi/keras-flops/blob/master/notebooks/flops_calculation_tfkeras.ipynb\" target=\"_parent\"><img src=\"https://colab.research.google.com/assets/colab-badge.svg\" alt=\"Open In Colab\"/></a>"
      ]
    },
    {
      "cell_type": "markdown",
      "metadata": {
        "id": "Frb4OejZFmTD",
        "colab_type": "text"
      },
      "source": [
        "# FLOPS calculation with tf.keras\n",
        "\n",
        "Calculate FLOPS about operations used at inference of tf.keras.Sequential or tf.keras.Model instanse."
      ]
    },
    {
      "cell_type": "code",
      "metadata": {
        "id": "9JKQ00sbXr9x",
        "colab_type": "code",
        "colab": {}
      },
      "source": [
        "import tensorflow as tf\n",
        "from tensorflow.python.framework.convert_to_constants import convert_variables_to_constants_v2_as_graph\n",
        "\n",
        "from tensorflow.keras import Model, Input\n",
        "from tensorflow.keras.layers import Dense, Flatten"
      ],
      "execution_count": 1,
      "outputs": []
    },
    {
      "cell_type": "markdown",
      "metadata": {
        "id": "l-9NdRSPGXDj",
        "colab_type": "text"
      },
      "source": [
        "## main function"
      ]
    },
    {
      "cell_type": "code",
      "metadata": {
        "id": "OslDuZMWt2p2",
        "colab_type": "code",
        "colab": {}
      },
      "source": [
        "def get_flops(model, batch_size=None):\n",
        "    if batch_size is None:\n",
        "        batch_size = 1\n",
        "\n",
        "    real_model = tf.function(model).get_concrete_function(tf.TensorSpec([batch_size] + model.inputs[0].shape[1:], model.inputs[0].dtype))\n",
        "    frozen_func, graph_def = convert_variables_to_constants_v2_as_graph(real_model)\n",
        "\n",
        "    run_meta = tf.compat.v1.RunMetadata()\n",
        "    opts = tf.compat.v1.profiler.ProfileOptionBuilder.float_operation()\n",
        "    flops = tf.compat.v1.profiler.profile(graph=frozen_func.graph,\n",
        "                                            run_meta=run_meta, cmd='op', options=opts)\n",
        "    return flops.total_float_ops"
      ],
      "execution_count": 2,
      "outputs": []
    },
    {
      "cell_type": "markdown",
      "metadata": {
        "id": "G7NIGih_GcU0",
        "colab_type": "text"
      },
      "source": [
        "## test with simple architecture"
      ]
    },
    {
      "cell_type": "code",
      "metadata": {
        "id": "iLII1ltUzA46",
        "colab_type": "code",
        "colab": {}
      },
      "source": [
        "def build_base_model():\n",
        "    inp = Input((32, 32, 3))\n",
        "    x = Flatten()(inp)\n",
        "    out = Dense(10)(x)\n",
        "    model = Model(inp, out)\n",
        "    return model"
      ],
      "execution_count": 3,
      "outputs": []
    },
    {
      "cell_type": "code",
      "metadata": {
        "id": "7Gqxn3M3XIjD",
        "colab_type": "code",
        "colab": {}
      },
      "source": [
        "def main(batch_size):\n",
        "    model = build_base_model()\n",
        "    model.summary()\n",
        "\n",
        "    flops = get_flops(model, batch_size)\n",
        "    print(f\"FLOPS: {flops}\")\n",
        "    return model"
      ],
      "execution_count": 4,
      "outputs": []
    },
    {
      "cell_type": "code",
      "metadata": {
        "id": "LgoSig0wchZ0",
        "colab_type": "code",
        "colab": {
          "base_uri": "https://localhost:8080/",
          "height": 352
        },
        "outputId": "fd61e06c-466b-4df7-c0da-733e893a418f"
      },
      "source": [
        "m = main(1)\n",
        "# FLOPS = 32 * 32 * 3 (= 3072) * 10 * 2 + 10 = 61450"
      ],
      "execution_count": 5,
      "outputs": [
        {
          "output_type": "stream",
          "text": [
            "Model: \"functional_1\"\n",
            "_________________________________________________________________\n",
            "Layer (type)                 Output Shape              Param #   \n",
            "=================================================================\n",
            "input_1 (InputLayer)         [(None, 32, 32, 3)]       0         \n",
            "_________________________________________________________________\n",
            "flatten (Flatten)            (None, 3072)              0         \n",
            "_________________________________________________________________\n",
            "dense (Dense)                (None, 10)                30730     \n",
            "=================================================================\n",
            "Total params: 30,730\n",
            "Trainable params: 30,730\n",
            "Non-trainable params: 0\n",
            "_________________________________________________________________\n",
            "WARNING:tensorflow:From /usr/local/lib/python3.6/dist-packages/tensorflow/python/ops/math_ops.py:3370: tensor_shape_from_node_def_name (from tensorflow.python.framework.graph_util_impl) is deprecated and will be removed in a future version.\n",
            "Instructions for updating:\n",
            "Use `tf.compat.v1.graph_util.tensor_shape_from_node_def_name`\n",
            "FLOPS: 61450\n"
          ],
          "name": "stdout"
        }
      ]
    },
    {
      "cell_type": "markdown",
      "metadata": {
        "id": "8PGKIMrBGpgH",
        "colab_type": "text"
      },
      "source": [
        "## demo with LeNet and CIFAR10"
      ]
    },
    {
      "cell_type": "code",
      "metadata": {
        "id": "1I1hmF6EfK00",
        "colab_type": "code",
        "colab": {}
      },
      "source": [
        "import numpy as np\n",
        "import tensorflow as tf\n",
        "\n",
        "import tensorflow_datasets as tfds\n",
        "from absl import app, flags\n",
        "from easydict import EasyDict\n",
        "from tensorflow.keras import Model, Input\n",
        "from tensorflow.keras.layers import Dense, Flatten, Conv2D, MaxPooling2D, Dropout"
      ],
      "execution_count": 6,
      "outputs": []
    },
    {
      "cell_type": "code",
      "metadata": {
        "id": "1n1OSsBG1xhm",
        "colab_type": "code",
        "colab": {}
      },
      "source": [
        "def build_model(batch_size=1):\n",
        "    inp = Input((32, 32, 3))\n",
        "    x = Conv2D(32, kernel_size=(3, 3),\n",
        "                     activation='relu')(inp)\n",
        "    x = Conv2D(64, (3, 3), activation='relu')(x)\n",
        "    x = MaxPooling2D(pool_size=(2, 2))(x)\n",
        "    x = Dropout(0.25)(x)\n",
        "    x = Flatten()(x)\n",
        "    x = Dense(128, activation=\"relu\")(x)\n",
        "    x = Dropout(0.5)(x)\n",
        "    out = Dense(10, activation=\"softmax\")(x)\n",
        "    model = Model(inp, out)\n",
        "    return model"
      ],
      "execution_count": 7,
      "outputs": []
    },
    {
      "cell_type": "code",
      "metadata": {
        "id": "CLVVghxRX3mt",
        "colab_type": "code",
        "colab": {}
      },
      "source": [
        "def load_cifar10(batch=128):\n",
        "    \"\"\"Load CIFAR10 training and test data.\"\"\"\n",
        "\n",
        "    def convert_types(data):\n",
        "        image = data[\"image\"]\n",
        "        label = data[\"label\"]\n",
        "        image = tf.cast(image, tf.float32)\n",
        "        image /= 255\n",
        "        return image, label\n",
        "\n",
        "    dataset, info = tfds.load('cifar10', with_info=True)\n",
        "    # return dataset, info\n",
        "    mnist_train, mnist_test = dataset['train'], dataset['test']\n",
        "    mnist_train = mnist_train.map(convert_types).shuffle(10000).batch(batch)\n",
        "    mnist_test = mnist_test.map(convert_types).batch(batch)\n",
        "    return EasyDict(train=mnist_train, test=mnist_test)"
      ],
      "execution_count": 8,
      "outputs": []
    },
    {
      "cell_type": "code",
      "metadata": {
        "id": "KCOGme2xewNX",
        "colab_type": "code",
        "colab": {}
      },
      "source": [
        "def main(batch_size, pred_batch):\n",
        "    # Load training and test data\n",
        "    data = load_cifar10(batch_size)\n",
        "    #Load CNN Model\n",
        "    model = build_model()\n",
        "    model.summary()\n",
        "\n",
        "    # Calculae FLOPS\n",
        "    flops = get_flops(model, pred_batch)\n",
        "    print(f\"FLOPS: {flops / 10**9:.03} G\")\n",
        "\n",
        "    # train\n",
        "    model.compile(\n",
        "        optimizer=\"adam\",\n",
        "        loss=tf.keras.losses.SparseCategoricalCrossentropy()\n",
        "    )\n",
        "    model.fit(\n",
        "        data.train,\n",
        "        epochs=5\n",
        "    )\n",
        "    return model"
      ],
      "execution_count": 9,
      "outputs": []
    },
    {
      "cell_type": "code",
      "metadata": {
        "id": "sHM_-DWpgcnG",
        "colab_type": "code",
        "colab": {}
      },
      "source": [
        "# GFLOPS of 2nd Conv2D ～ 28 * 28 * 3 * 3 * 32 * 64 * 2 / 10 ** 9\n",
        "# ～ 0.028901376"
      ],
      "execution_count": 10,
      "outputs": []
    },
    {
      "cell_type": "code",
      "metadata": {
        "id": "NmIRcFPN7u6a",
        "colab_type": "code",
        "colab": {
          "base_uri": "https://localhost:8080/",
          "height": 682
        },
        "outputId": "1a7f7811-7cad-490e-eb46-8bdaf146e8f3"
      },
      "source": [
        "main(batch_size=128, pred_batch=1)"
      ],
      "execution_count": 11,
      "outputs": [
        {
          "output_type": "stream",
          "text": [
            "Model: \"functional_3\"\n",
            "_________________________________________________________________\n",
            "Layer (type)                 Output Shape              Param #   \n",
            "=================================================================\n",
            "input_2 (InputLayer)         [(None, 32, 32, 3)]       0         \n",
            "_________________________________________________________________\n",
            "conv2d (Conv2D)              (None, 30, 30, 32)        896       \n",
            "_________________________________________________________________\n",
            "conv2d_1 (Conv2D)            (None, 28, 28, 64)        18496     \n",
            "_________________________________________________________________\n",
            "max_pooling2d (MaxPooling2D) (None, 14, 14, 64)        0         \n",
            "_________________________________________________________________\n",
            "dropout (Dropout)            (None, 14, 14, 64)        0         \n",
            "_________________________________________________________________\n",
            "flatten_1 (Flatten)          (None, 12544)             0         \n",
            "_________________________________________________________________\n",
            "dense_1 (Dense)              (None, 128)               1605760   \n",
            "_________________________________________________________________\n",
            "dropout_1 (Dropout)          (None, 128)               0         \n",
            "_________________________________________________________________\n",
            "dense_2 (Dense)              (None, 10)                1290      \n",
            "=================================================================\n",
            "Total params: 1,626,442\n",
            "Trainable params: 1,626,442\n",
            "Non-trainable params: 0\n",
            "_________________________________________________________________\n",
            "FLOPS: 0.0338 G\n",
            "Epoch 1/5\n",
            "391/391 [==============================] - 10s 26ms/step - loss: 1.5969\n",
            "Epoch 2/5\n",
            "391/391 [==============================] - 10s 26ms/step - loss: 1.2639\n",
            "Epoch 3/5\n",
            "391/391 [==============================] - 10s 26ms/step - loss: 1.1427\n",
            "Epoch 4/5\n",
            "391/391 [==============================] - 10s 26ms/step - loss: 1.0649\n",
            "Epoch 5/5\n",
            "391/391 [==============================] - 10s 26ms/step - loss: 1.0120\n"
          ],
          "name": "stdout"
        },
        {
          "output_type": "execute_result",
          "data": {
            "text/plain": [
              "<tensorflow.python.keras.engine.functional.Functional at 0x7fc9cf7e2240>"
            ]
          },
          "metadata": {
            "tags": []
          },
          "execution_count": 11
        }
      ]
    },
    {
      "cell_type": "code",
      "metadata": {
        "id": "nRww3PGLfwAa",
        "colab_type": "code",
        "colab": {}
      },
      "source": [
        ""
      ],
      "execution_count": 11,
      "outputs": []
    }
  ]
}